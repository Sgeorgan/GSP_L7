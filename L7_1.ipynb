{
 "cells": [
  {
   "cell_type": "markdown",
   "id": "87298736-8bb3-4d67-88aa-d3fb4f5876a3",
   "metadata": {},
   "source": [
    "# Retrieving Data from OpenStreetMap\n",
    "\n",
    "## Introduction to OpenStreetMap\n",
    "\n",
    "[OpenStreetMap (OSM)](https://openstreetmap.org) represents a comprehensive, collaborative project aimed at creating a freely editable map of the world. This initiative is a testament to a global effort in gathering and sharing geospatial data on a scale that covers our environment's various aspects, such as streets, buildings, services, and land use, to name a few. At its core, OSM is supported by a community that exceeds 8 million registered users, contributing approximately 4 million updates every day. This data, which consists of over 7 billion nodes, facilitates a range of applications beyond mapping, including routing, geocoding, education, and research, significantly impacting humanitarian efforts and economic development.\n",
    "\n",
    "- **Explore More:** [OSM Wiki](https://wiki.openstreetmap.org/wiki/Main_Page)\n",
    "\n",
    "### Contribute to OpenStreetMap\n",
    "\n",
    "Anyone can contribute to this rich database by adding new data, correcting, or improving the existing information.\n",
    "\n",
    "- **Get Involved:** [How to contribute](https://wiki.openstreetmap.org/wiki/Main_Page)\n",
    "\n",
    "### Applications of OSM Data\n",
    "\n",
    "OSM's utility extends beyond its primary function as a mapping tool. It is instrumental in humanitarian projects, particularly in crisis response and promoting economic development in underserved regions.\n",
    "\n",
    "- **Discover:** [Humanitarian OpenStreetMap Team (HOTOSM)](https://www.hotosm.org)\n",
    "\n",
    "## Essential Tools for This Lesson\n",
    "\n",
    "### OSMnx\n",
    "\n",
    "This section introduces [OSMnx](https://github.com/gboeing/osmnx), a Python package designed for retrieving, constructing, analyzing, and visualizing street networks from OpenStreetMap data. OSMnx simplifies the process of downloading street networks and points of interest, supporting various applications like route finding across different modes of transportation.\n",
    "\n",
    "- **Read:** Boeing, G. 2017. [\"OSMnx: New Methods for Acquiring, Constructing, Analyzing, and Visualizing Complex Street Networks.\"](https://www.researchgate.net/publication/309738462_OSMnx_New_Methods_for_Acquiring_Constructing_Analyzing_and_Visualizing_Complex_Street_Networks) Computers, Environment and Urban Systems 65, 126-139. doi:10.1016/j.compenvurbsys.2017.05.004\n",
    "- **Tutorial:** [OSMnx Overview](https://github.com/gboeing/osmnx-examples/blob/master/notebooks/01-overview-osmnx.ipynb)\n",
    "\n",
    "### NetworkX\n",
    "\n",
    "We will also leverage [NetworkX](https://networkx.github.io/documentation//), a powerful Python package for the creation, manipulation, and study of the structure, dynamics, and functions of complex networks, particularly those derived from OSM data.\n",
    "\n",
    "## Downloading and Visualizing OpenStreetMap Data with OSMnx\n",
    "\n",
    "OSMnx offers an intuitive interface for accessing OpenStreetMap data through the OverPass API, enabling users to download and visualize street networks and additional geospatial information for specified areas of interest.\n",
    "\n",
    "### Street Network\n",
    "\n",
    "Utilizing the [`osmnx.graph` module](https://osmnx.readthedocs.io/en/stable/osmnx.html#module-osmnx.graph), users can construct routable road network graphs based on various criteria such as place names, bounding boxes, or polygons. For example, we will explore how to fetch data for the around Stora Torget in Karlstad, Sweden using a place name query, which relies on the Nominatim Geocoding API for location lookups.\n",
    "\n",
    "- **Function Highlight:** [graph_from_place()](https://osmnx.readthedocs.io/en/stable/osmnx.html#osmnx.graph.graph_from_place)\n"
   ]
  },
  {
   "cell_type": "code",
   "execution_count": null,
   "id": "be96d701-ac4c-4fc6-abe9-bcc3613a0799",
   "metadata": {},
   "outputs": [],
   "source": [
    "import osmnx \n",
    "\n",
    "# Geocode the location to get its latitude and longitude\n",
    "location_point = osmnx.geocoder.geocode(\"Stora Torget, Karlstad, Sweden\")\n",
    "\n",
    "# Define the distance by which to extend the bounding box (in meters)\n",
    "distance = 1000  # Extend by 500 meters\n",
    "\n",
    "# Calculate the bounding box around the location, extended by the specified distance\n",
    "north, south, east, west = osmnx.utils_geo.bbox_from_point(\n",
    "    point=location_point, dist=distance)\n",
    "\n",
    "# You can now use this bounding box to get the graph\n",
    "graph = osmnx.graph_from_bbox(north, south, east, west, network_type='all')\n",
    "\n",
    "\n",
    "\n",
    "print(f\"Bounding Box: North: {north}, South: {south}, East: {east}, West: {west}\")\n"
   ]
  },
  {
   "cell_type": "code",
   "execution_count": null,
   "id": "49afb84a-2acf-4e9d-ab3a-d12016d0be78",
   "metadata": {},
   "outputs": [],
   "source": [
    "type(graph)"
   ]
  },
  {
   "cell_type": "markdown",
   "id": "e7df1694-825d-4780-b0f9-9a3765882e12",
   "metadata": {},
   "source": [
    "The type is a networkx.MultiDiGraph object.\n",
    "\n",
    "OSMnx’s graphs do not have a built-in method to plot them, but the package comes with a function to do so:"
   ]
  },
  {
   "cell_type": "code",
   "execution_count": null,
   "id": "e2bb1975-9e0e-4fb7-a800-caa710e35bb6",
   "metadata": {},
   "outputs": [],
   "source": [
    "fig, ax = osmnx.plot_graph(osmnx.project_graph(graph))"
   ]
  },
  {
   "cell_type": "markdown",
   "id": "b9d005af-6de6-42a0-934f-0ad74dc9cce1",
   "metadata": {},
   "source": [
    " Osmnx.plot_graph() uses matplotlib. The function returns a (figure, axes) tuple, that can be used to modify the figure using all matplotlib functions we already got to know.\n",
    "\n",
    "We can see that our graph contains nodes (the points) and edges (the lines) that connects those nodes."
   ]
  },
  {
   "cell_type": "markdown",
   "id": "a211745b-d6fd-4304-9b05-5199b19a4755",
   "metadata": {},
   "source": [
    "### Convert a graph to `GeoDataFrame`s\n",
    "\n",
    "The street network we just downloaded is a *graph*, more specifically a\n",
    "`networkx.MultiDiGraph`. Its main purpose is to represent the topological\n",
    "relationships between nodes and the links (edges) between them. Sometimes, it\n",
    "is more convenient to have the underlying geodata in `geopandas.GeoDataFrame`s.\n",
    "OSMnx comes with a convenient function that converts a graph into two geo-data\n",
    "frames, one for nodes, and one for edges:\n",
    "[`osmnx.graph_to_gdfs()`](https://osmnx.readthedocs.io/en/stable/osmnx.html#osmnx.utils_graph.graph_to_gdfs)."
   ]
  },
  {
   "cell_type": "code",
   "execution_count": null,
   "id": "daf639ef-c72c-4b47-9c4b-5962088ff3dc",
   "metadata": {},
   "outputs": [],
   "source": [
    "nodes, edges = osmnx.graph_to_gdfs(graph)"
   ]
  },
  {
   "cell_type": "code",
   "execution_count": null,
   "id": "b84692ea-2b5d-417e-af13-bc62fac82cb8",
   "metadata": {},
   "outputs": [],
   "source": [
    "nodes.head()"
   ]
  },
  {
   "cell_type": "code",
   "execution_count": null,
   "id": "b9cc055f-2c5b-4e38-aec7-ceac415805dc",
   "metadata": {},
   "outputs": [],
   "source": [
    "edges.head()"
   ]
  },
  {
   "cell_type": "markdown",
   "id": "14fe20e9-da72-4c7e-acf2-4bf2d89bbfdd",
   "metadata": {},
   "source": [
    "\n",
    "### Place polygon\n",
    "\n",
    "Let’s also plot the polygon that represents our area of interest (Stora Torget, Karlstad). We can retrieve the polygon geometry using the\n",
    "using the bounding box as input to geopandas."
   ]
  },
  {
   "cell_type": "code",
   "execution_count": null,
   "id": "6dba40df-06fa-49e0-ac89-ea290556a5e1",
   "metadata": {},
   "outputs": [],
   "source": [
    "import geopandas\n",
    "from shapely.geometry import Polygon\n",
    "\n",
    "# Assuming north, south, east, west variables are already defined\n",
    "\n",
    "# Create a polygon from the bounding box\n",
    "polygon = Polygon([(west, north), (east, north), (east, south), (west, south)])\n",
    "\n",
    "# Create a GeoDataFrame from the polygon\n",
    "area = geopandas.GeoDataFrame(index=[0], crs=\"EPSG:4326\", geometry=[polygon])\n",
    "\n",
    "# Now `area_gdf` represents the area of the bounding box as a GeoDataFrame\n"
   ]
  },
  {
   "cell_type": "code",
   "execution_count": null,
   "id": "e619a261-8d8f-4af5-ad37-74f1c55a440b",
   "metadata": {},
   "outputs": [],
   "source": [
    "# Check the data type\n",
    "type(area)"
   ]
  },
  {
   "cell_type": "code",
   "execution_count": null,
   "id": "c8351f45-1a21-4e3a-8281-2904eb6839dc",
   "metadata": {},
   "outputs": [],
   "source": [
    "# Check data values\n",
    "area"
   ]
  },
  {
   "cell_type": "code",
   "execution_count": null,
   "id": "f028bce7-8666-4abc-b0a7-09b0f55b28ee",
   "metadata": {},
   "outputs": [],
   "source": [
    "# Plot the area:\n",
    "area.plot()"
   ]
  },
  {
   "cell_type": "markdown",
   "id": "bc949420-4e87-4b44-8028-eff4002be965",
   "metadata": {},
   "source": [
    "### Building footprints\n",
    "\n",
    "Besides network data, OSMnx can also download any other data contained in the OpenStreetMap database. This includes, for instance, building footprints, and different points-of-interests (POIs). To download arbitrary geometries, filtered by [OSM tags](https://wiki.openstreetmap.org/wiki/Map_features) and a place name, use [`osmnx.geometries_from_place()`](https://osmnx.readthedocs.io/en/stable/osmnx.html#osmnx.geometries.geometries_from_place). The tag to retrieve all [buildings](https://wiki.openstreetmap.org/wiki/Buildings) is `building = yes`."
   ]
  },
  {
   "cell_type": "code",
   "execution_count": null,
   "id": "288b70f7-4886-45b8-abac-c06a3515fbb0",
   "metadata": {},
   "outputs": [],
   "source": [
    "# Download building geometries within the specified bounding box\n",
    "buildings = osmnx.geometries.geometries_from_bbox(north, south, east, west, tags={\"building\": True})"
   ]
  },
  {
   "cell_type": "code",
   "execution_count": null,
   "id": "c348d475-9591-4726-bd1e-4de35d71e613",
   "metadata": {},
   "outputs": [],
   "source": [
    "\n",
    "len(buildings) "
   ]
  },
  {
   "cell_type": "code",
   "execution_count": null,
   "id": "bafbf39d-36c0-4c0d-8a12-7fe9b3f5ad9a",
   "metadata": {},
   "outputs": [],
   "source": [
    "buildings.head() "
   ]
  },
  {
   "cell_type": "markdown",
   "id": "fa11d763-1e7c-4414-bf1e-ba0b2fc617a8",
   "metadata": {},
   "source": [
    "As you can see, there are several columns in `buildings`. Each column contains\n",
    "information about a specific tag that OpenStreetMap contributors have added.\n",
    "Each tag consists of a key (the column name), and a values (for example\n",
    "`building=yes` or `building=school`). Read more about tags and tagging\n",
    "practices in the [OpenStreetMap\n",
    "wiki](https://wiki.openstreetmap.org/wiki/Tags)."
   ]
  },
  {
   "cell_type": "code",
   "execution_count": null,
   "id": "d8908bc1-c44e-4836-b62a-5de951985c3e",
   "metadata": {},
   "outputs": [],
   "source": [
    "buildings.columns "
   ]
  },
  {
   "cell_type": "code",
   "execution_count": null,
   "id": "8a305602-8ea0-4910-a770-e6eee78e99b9",
   "metadata": {},
   "outputs": [],
   "source": [
    "buildings.plot()"
   ]
  },
  {
   "cell_type": "markdown",
   "id": "20152665-a8cf-407a-8d50-49680c5bc3ed",
   "metadata": {},
   "source": [
    "### Points-of-interest\n",
    "\n",
    "Point-of-interest (POI) is a generic concept that describes point locations\n",
    "that represent places of interest. As `osmnx.geometries_from_place()` can download any geometry data contained in the OpenStreetMap database, it can also be used to download any kind of POI data. \n",
    "\n",
    "\n",
    "In OpenStreetMap, many POIs are described using the [`amenity`\n",
    "tag](https://wiki.openstreetmap.org/wiki/Key:amenity).  We can, for example,\n",
    "retrieve all restaurant locations by querying `amenity=restaurant`."
   ]
  },
  {
   "cell_type": "code",
   "execution_count": null,
   "id": "cca074be-dc36-4a89-b2a1-601ffecc0dff",
   "metadata": {},
   "outputs": [],
   "source": [
    "# Download restaurant geometries within the specified bounding box\n",
    "restaurants = osmnx.geometries_from_bbox(north, south, east, west, tags={\"amenity\": \"restaurant\"})\n",
    "\n",
    "# Print the number of restaurants found\n",
    "print(len(restaurants))\n"
   ]
  },
  {
   "cell_type": "code",
   "execution_count": null,
   "id": "7393f834-1a2c-40c4-872d-e01f2ad7a5e3",
   "metadata": {},
   "outputs": [],
   "source": [
    "# Available columns\n",
    "restaurants.columns.values "
   ]
  },
  {
   "cell_type": "code",
   "execution_count": null,
   "id": "c747c8eb-9544-4fd1-8e28-815cb01ad103",
   "metadata": {},
   "outputs": [],
   "source": [
    "# Select some useful cols and print\n",
    "interesting_columns = [\n",
    "    \"name\",\n",
    "    \"opening_hours\",\n",
    "    \"addr:city\",\n",
    "    \"addr:country\",\n",
    "    \"addr:housenumber\",\n",
    "    \"addr:postcode\",\n",
    "    \"addr:street\"\n",
    "]\n",
    "\n",
    "# Print only selected cols\n",
    "restaurants[interesting_columns].head(10) "
   ]
  },
  {
   "cell_type": "markdown",
   "id": "3c56ee3e-870b-4a7e-aa1d-f4cf6a9b449a",
   "metadata": {},
   "source": [
    "\n",
    "### Parks and green areas\n",
    "\n",
    "Let’s try to fetch all public parks in the Kamppi area. In OpenStreetMap,\n",
    "[parks hould be tagged](https://wiki.openstreetmap.org/wiki/Map_features) as\n",
    "`leisure = park`.  Smaller green areas (*puistikot*) are sometimes also tagged\n",
    "`landuse = grass`. We can combine multiple tags in one data query."
   ]
  },
  {
   "cell_type": "code",
   "execution_count": null,
   "id": "d563e632-50e0-4078-a3b3-96e8b4fd9b9f",
   "metadata": {},
   "outputs": [],
   "source": [
    "\n",
    "# Assuming north, south, east, west are already defined\n",
    "\n",
    "# Download geometries tagged as parks within the specified bounding box\n",
    "parks =  osmnx.geometries_from_bbox(north, south, east, west, tags={\"leisure\": \"park\"})\n",
    "\n",
    "print(len(parks))\n"
   ]
  },
  {
   "cell_type": "code",
   "execution_count": null,
   "id": "08abe984-9bd5-40c8-bc25-1293cfe45133",
   "metadata": {},
   "outputs": [],
   "source": [
    "parks.head()"
   ]
  },
  {
   "cell_type": "code",
   "execution_count": null,
   "id": "d42b4046-0f11-4539-8886-ff3fd6be3b33",
   "metadata": {},
   "outputs": [],
   "source": [
    "parks.plot(color=\"green\") "
   ]
  },
  {
   "cell_type": "markdown",
   "id": "8388b501-dbbc-4a64-ab2c-d88d8fd3fa88",
   "metadata": {},
   "source": [
    "### Plotting the data\n",
    "\n",
    "Let’s create a map out of the streets, buildings, restaurants, and the area polygon."
   ]
  },
  {
   "cell_type": "code",
   "execution_count": null,
   "id": "fce831d4-7b97-4bda-b199-1ce3d2a6ebed",
   "metadata": {},
   "outputs": [],
   "source": [
    "import matplotlib\n",
    "figure, ax = matplotlib.pyplot.subplots(figsize=(12,8))\n",
    "\n",
    "# Plot the footprint\n",
    "area.plot(ax=ax, facecolor=\"black\")\n",
    "\n",
    "# Plot parks\n",
    "parks.plot(ax=ax, facecolor=\"green\")\n",
    "\n",
    "# Plot street ‘edges’\n",
    "edges.plot(ax=ax, linewidth=1, edgecolor=\"dimgray\")\n",
    "\n",
    "# Plot buildings\n",
    "buildings.plot(ax=ax, facecolor=\"silver\", alpha=0.7)\n",
    "\n",
    "# Plot restaurants\n",
    "restaurants.plot(ax=ax, color=\"yellow\", alpha=0.7, markersize=10)"
   ]
  },
  {
   "cell_type": "markdown",
   "id": "5c502edb-a03d-478e-b9db-c162d682dff3",
   "metadata": {},
   "source": [
    "## Sources\n",
    "\n",
    "This lesson is inspired and has adapted or reused material from University of Helsinki Automating GIS processis course (https://autogis-site.readthedocs.io/en/latest/course-info/license.html) under a Creative Commons Attribution-ShareAlike 4.0 International licence (https://creativecommons.org/licenses/by-sa/4.0/deed.en)."
   ]
  },
  {
   "cell_type": "code",
   "execution_count": null,
   "id": "20f512c8-66c5-4060-ba88-297f1d9b7cf0",
   "metadata": {},
   "outputs": [],
   "source": []
  },
  {
   "cell_type": "code",
   "execution_count": null,
   "id": "0b556d8a-605a-4f0d-a15d-3e28cfd15b20",
   "metadata": {},
   "outputs": [],
   "source": []
  }
 ],
 "metadata": {
  "kernelspec": {
   "display_name": "GeoPython25",
   "language": "python",
   "name": "geopython"
  },
  "language_info": {
   "codemirror_mode": {
    "name": "ipython",
    "version": 3
   },
   "file_extension": ".py",
   "mimetype": "text/x-python",
   "name": "python",
   "nbconvert_exporter": "python",
   "pygments_lexer": "ipython3",
   "version": "3.10.13"
  }
 },
 "nbformat": 4,
 "nbformat_minor": 5
}
