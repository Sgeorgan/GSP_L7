{
 "cells": [
  {
   "cell_type": "code",
   "execution_count": null,
   "id": "9d642b5d-ad9c-4995-9d42-bec2888a3468",
   "metadata": {},
   "outputs": [],
   "source": [
    "import osmnx as ox\n",
    "import networkx as nx\n",
    "import matplotlib.pyplot as plt\n",
    "\n",
    "\n",
    "# Define the center of your area of interest and the bounding box size (in meters)\n",
    "center_point = ox.geocoder.geocode(\"Stora Torget, Karlstad, Sweden\")\n",
    "dist = 1000  # Distance from the center point in meters to define the bounding box\n",
    "\n",
    "# Download and project the bike network to SWEREF 99 TM\n",
    "G = ox.graph_from_point(center_point, dist=dist, network_type='bike', simplify=True, custom_filter='[\"bicycle\"~\"yes|designated\"]')\n",
    "G_projected = ox.project_graph(G, to_crs=\"EPSG:3006\")\n"
   ]
  },
  {
   "cell_type": "code",
   "execution_count": null,
   "id": "fe5edcf3-2392-4e89-97e5-663b30010127",
   "metadata": {},
   "outputs": [],
   "source": [
    "fig, ax = ox.plot_graph(G_projected)"
   ]
  },
  {
   "cell_type": "markdown",
   "id": "e8c80f55-cee5-44f3-8b1a-7ec53ee48ef1",
   "metadata": {},
   "source": [
    "### Data overview\n",
    "\n",
    "Now that we obtained a complete network graph for the travel mode we specified\n",
    "(cycling), we can take a closer look at which attributes are assigned to the\n",
    "nodes and edges of the network. It is probably easiest to first convert the\n",
    "network into a geo-data frame on which we can then use the tools we learnt in\n",
    "earlier lessons.\n",
    "\n",
    "To convert a graph into a geo-data frame, we can use `osmnx.graph_to_gdfs()`\n",
    "(see [previous section](retrieve-data-from-openstreetmap)). Here, we can make\n",
    "use of the function’s parameters `nodes` and `edges` to select whether we want\n",
    "only nodes, only edges, or both (the default):"
   ]
  },
  {
   "cell_type": "code",
   "execution_count": null,
   "id": "a2df354b-f109-4c48-b889-372400284302",
   "metadata": {},
   "outputs": [],
   "source": [
    "# Retrieve only edges from the graph\n",
    "edges = ox.graph_to_gdfs(G_projected, nodes=False, edges=True)\n",
    "edges.head()"
   ]
  },
  {
   "cell_type": "markdown",
   "id": "b285caf6-caa6-444f-96b5-8e375dc9fa26",
   "metadata": {},
   "source": [
    "The resulting geo-data frame comprises of a long list of columns. Most of them\n",
    "relate to [OpenStreetMap tags](https://wiki.openstreetmap.org/wiki/Tags), and\n",
    "their names are rather self-explanatory. the columns `u` and `v` describe the\n",
    "topological relationship within the network: they denote the start and end node\n",
    "of each edge.\n",
    "\n",
    "\n",
    "* - Column\n",
    "  - Description\n",
    "  - Data type\n",
    "* - [bridge](http://wiki.openstreetmap.org/wiki/Key:bridge)    \n",
    "  - Bridge feature              \n",
    "  - boolean           \n",
    "* - geometry                                                   \n",
    "  - Geometry of the feature     \n",
    "  - Shapely.geometry  \n",
    "* - [highway](http://wiki.openstreetmap.org/wiki/Key:highway)  \n",
    "  - Tag for roads (road type)   \n",
    "  - str / list        \n",
    "* - [lanes](http://wiki.openstreetmap.org/wiki/Key:lanes)      \n",
    "  - Number of lanes             \n",
    "  - int (or nan)      \n",
    "* - [length](http://wiki.openstreetmap.org/wiki/Key:length)    \n",
    "  - Length of feature (meters)  \n",
    "  - float             \n",
    "* - [maxspeed](http://wiki.openstreetmap.org/wiki/Key:maxspeed)\n",
    "  - maximum legal speed limit   \n",
    "  - int /list         \n",
    "* - [name](http://wiki.openstreetmap.org/wiki/Key:name)        \n",
    "  - Name of the (street) element\n",
    "  - str (or nan)      \n",
    "* - [oneway](http://wiki.openstreetmap.org/wiki/Key:oneway)    \n",
    "  - One way road                \n",
    "  - boolean           \n",
    "* - [osmid](http://wiki.openstreetmap.org/wiki/Node)           \n",
    "  - Unique ids for the element  \n",
    "  - list              \n",
    "* - [u](http://ow.ly/bV8n30h7Ufm)                              \n",
    "  - The start node of edge      \n",
    "  - int               \n",
    "* - [v](http://ow.ly/bV8n30h7Ufm)                              \n",
    "  - The end node of edge       \n",
    "  - int               \n",
    ":::\n",
    "\n",
    "\n",
    "What types of streets does our network comprise of?"
   ]
  },
  {
   "cell_type": "code",
   "execution_count": null,
   "id": "52e2907d-e16f-4f88-8e89-7d774cc36630",
   "metadata": {},
   "outputs": [],
   "source": [
    "edges[\"highway\"].value_counts()"
   ]
  },
  {
   "cell_type": "markdown",
   "id": "d5b947a6-3dbb-43a1-a0c5-15c20f4f91d3",
   "metadata": {},
   "source": [
    "\n",
    "## Analysing network properties\n",
    "\n",
    "Now that we have prepared a routable network graph, we can turn to the more\n",
    "analytical features of OSMnx, and extract information about the network.\n",
    "To compute basic network characteristics, use\n",
    "[`osmnx.basic_stats()`](https://osmnx.readthedocs.io/en/stable/osmnx.html#osmnx.stats.basic_stats):"
   ]
  },
  {
   "cell_type": "code",
   "execution_count": null,
   "id": "f4b7f12f-d9d8-40b4-b48a-61470349b927",
   "metadata": {},
   "outputs": [],
   "source": [
    "# Calculate network statistics\n",
    "ox.basic_stats(G_projected)"
   ]
  },
  {
   "cell_type": "markdown",
   "id": "3ba9d4ff-43ec-4cb8-ace6-fb2b5ca6d9e7",
   "metadata": {},
   "source": [
    "This does not yet yield all interesting characteristics of our network, as\n",
    "OSMnx does not automatically takes the area covered by the network into\n",
    "consideration. We can do that manually, by, first, delineating the [complex\n",
    "hull](https://en.wikipedia.org/wiki/Convex_hull) of the network (of an ’unary’\n",
    "union of all its features), and then, second, computing the area of this hull."
   ]
  },
  {
   "cell_type": "code",
   "execution_count": null,
   "id": "7f876bf4-42de-43ca-887e-888ac18035d4",
   "metadata": {},
   "outputs": [],
   "source": [
    "convex_hull = edges.unary_union.convex_hull\n",
    "convex_hull"
   ]
  },
  {
   "cell_type": "code",
   "execution_count": null,
   "id": "c722f3d0-4863-44da-b01c-e2a0fbf38a62",
   "metadata": {},
   "outputs": [],
   "source": [
    "stats = ox.basic_stats(G_projected, area=convex_hull.area)\n",
    "stats"
   ]
  },
  {
   "cell_type": "markdown",
   "id": "ba30ca7f-7a85-48c4-b409-7a12adcefe95",
   "metadata": {},
   "source": [
    "\n",
    "\n",
    "## Shortest path analysis\n",
    "\n",
    "Let’s now calculate the shortest path between two points using\n",
    "[`osmnx.shortest_path()`](https://osmnx.readthedocs.io/en/stable/osmnx.html?highlight=get_nearest_node#osmnx.distance.shortest_path).\n",
    "\n",
    "\n",
    "\n",
    "### Origin and destination points \n",
    "\n",
    "First we need to specify the source and target locations for our route. If you\n",
    "are familiar with the area, you can specify a custom placename as a\n",
    "source location. \n",
    "\n",
    "We could figure out the coordinates for these locations manually, and create\n",
    "`shapely.geometry.Point`s based on the coordinates.  However, if we would have\n",
    "more than just two points, that would quickly become a chore. Instead, we can\n",
    "use OSMnx to geocode the locations.\n",
    "\n",
    "Remember to transform the origin and destination points to the same reference\n",
    "system as the network data.\n",
    "\n",
    "In this case let's try to points of interest"
   ]
  },
  {
   "cell_type": "code",
   "execution_count": null,
   "id": "4636fcae-1b19-4902-b9fd-efef906dfca9",
   "metadata": {},
   "outputs": [],
   "source": [
    "\n",
    "# Geocode the origin and destination to get lat/lon\n",
    "origin_latlon = ox.geocoder.geocode(\"Bishops Arm, Karlstad\")\n",
    "destination_latlon = ox.geocoder.geocode(\"Löfbergs Rosteri & Kaffebar, Karlstad\")\n"
   ]
  },
  {
   "cell_type": "code",
   "execution_count": null,
   "id": "3b898a71-d04c-4723-891b-1c6342bffc7d",
   "metadata": {},
   "outputs": [],
   "source": [
    "destination_latlon"
   ]
  },
  {
   "cell_type": "code",
   "execution_count": null,
   "id": "41078a26-85c4-490d-8b52-b575e9b3a531",
   "metadata": {},
   "outputs": [],
   "source": [
    "origin_latlon"
   ]
  },
  {
   "cell_type": "code",
   "execution_count": null,
   "id": "db742683-87ea-40f9-9b00-3b1d67c0f686",
   "metadata": {},
   "outputs": [],
   "source": [
    "import geopandas as gpd\n",
    "from shapely.geometry import Point\n",
    "\n",
    "# Create GeoDataFrame with the geocoded points\n",
    "gdf = gpd.GeoDataFrame(\n",
    "    {'geometry': [Point(origin_latlon[::-1]), Point(destination_latlon[::-1])]}, \n",
    "    crs=\"EPSG:4326\"\n",
    ")\n",
    "\n",
    "# Transform the GeoDataFrame to SWEREF 99 TM\n",
    "gdf_transformed = gdf.to_crs(\"EPSG:3006\")\n",
    "\n",
    "# Extract transformed coordinates\n",
    "origin_point = gdf_transformed.geometry.iloc[0]\n",
    "destination_point = gdf_transformed.geometry.iloc[1]\n",
    "\n",
    "# Use nearest_nodes to find the nearest nodes in the graph to these transformed points\n",
    "origin_node = ox.distance.nearest_nodes(G_projected, origin_point.x, origin_point.y)\n",
    "destination_node = ox.distance.nearest_nodes(G_projected, destination_point.x, destination_point.y)\n"
   ]
  },
  {
   "cell_type": "code",
   "execution_count": null,
   "id": "8c594c2c-69e7-4349-974d-6895ab1e187d",
   "metadata": {},
   "outputs": [],
   "source": [
    "origin_node"
   ]
  },
  {
   "cell_type": "code",
   "execution_count": null,
   "id": "257086e3-69e8-4fce-939b-5df8ceb98897",
   "metadata": {},
   "outputs": [],
   "source": [
    "destination_node"
   ]
  },
  {
   "cell_type": "markdown",
   "id": "ae62e2a8-edad-4c3f-95f8-cea058251200",
   "metadata": {},
   "source": [
    "### Routing\n",
    "\n",
    "Now we are ready for routing and to find the shortest path between the\n",
    "origin and target locations. We will use\n",
    "[`osmnx.shortest_path()`](https://osmnx.readthedocs.io/en/stable/osmnx.html?highlight=get_nearest_node#osmnx.distance.shortest_path).\n",
    "\n",
    "The function accepts three mandatory parameters: a graph, an origin node id, and\n",
    "a destination node id, and two optional parameters: `weight` can be set to\n",
    "consider a different *cost impedance* than the length of the route, and `cpus`\n",
    "controls parallel computation of many routes."
   ]
  },
  {
   "cell_type": "code",
   "execution_count": null,
   "id": "2b21dce2-734f-4a80-9769-37c18688e670",
   "metadata": {},
   "outputs": [],
   "source": [
    "# Find the shortest path by length\n",
    "shortest_path = nx.shortest_path(G_projected, origin_node, destination_node, weight='length')\n",
    "\n"
   ]
  },
  {
   "cell_type": "code",
   "execution_count": null,
   "id": "74bbb7f4-7e47-4e79-92d8-6afd971d3e2f",
   "metadata": {},
   "outputs": [],
   "source": [
    "# Plot the bike network and the shortest path\n",
    "fig, ax = ox.plot_graph_route(G_projected, shortest_path, route_color='blue', route_linewidth=6, node_size=0, bgcolor='k')\n"
   ]
  },
  {
   "cell_type": "code",
   "execution_count": null,
   "id": "d46211f5-1930-4f3e-9c84-d37bb9f76c93",
   "metadata": {},
   "outputs": [],
   "source": [
    "# Find the shortest path by length\n",
    "shortest_path = nx.shortest_path(G_projected, origin_node,destination_node)\n",
    "# Plot the bike network and the shortest path\n",
    "fig, ax = ox.plot_graph_route(G_projected, shortest_path, route_color='blue', route_linewidth=6, node_size=0, bgcolor='k')\n"
   ]
  },
  {
   "cell_type": "code",
   "execution_count": null,
   "id": "03645674-8ab1-4ec4-92df-1b18f189f615",
   "metadata": {},
   "outputs": [],
   "source": [
    "shortest_path"
   ]
  },
  {
   "cell_type": "markdown",
   "id": "f3691cc6-886b-4446-9eac-a15da6cb572e",
   "metadata": {},
   "source": [
    "As a result we get a list of all the nodes that are along the shortest path. \n",
    "\n",
    "We could extract the locations of those nodes from the `nodes`\n",
    "GeoDataFrame and create a LineString presentation of the points, but luckily,\n",
    "OSMnx can do that for us and we can plot shortest path by using\n",
    "`plot_graph_route()` function:"
   ]
  },
  {
   "cell_type": "code",
   "execution_count": null,
   "id": "1b44c9a9-c177-48d2-8d54-5989ac12b4fc",
   "metadata": {},
   "outputs": [],
   "source": [
    "# Plot the shortest path\n",
    "fig, ax = ox.plot_graph_route(G_projected, shortest_path)"
   ]
  },
  {
   "cell_type": "code",
   "execution_count": null,
   "id": "73c44c3c-991d-4ec2-9c4b-245b4702f3a0",
   "metadata": {},
   "outputs": [],
   "source": [
    "# Extract lengths of each segment in the shortest path\n",
    "lengths = ox.utils_graph.get_route_edge_attributes(G_projected, shortest_path, \"length\")\n",
    "\n",
    "# Calculate the total length in meters\n",
    "total_length = sum(lengths)\n",
    "print(f\"Total length of the shortest path: {total_length:.2f} meters\")\n"
   ]
  },
  {
   "cell_type": "markdown",
   "id": "8c94d7b4-35fc-492a-a1e3-7a964fdb7a7f",
   "metadata": {},
   "source": [
    "\n",
    "## Saving shortest paths to disk\n",
    "\n",
    "Quite often you need to save the route into a file for further analysis and\n",
    "visualization purposes, or at least have it as a GeoDataFrame object in Python.\n",
    "Hence, let's continue still a bit and see how we can turn the route into a\n",
    "linestring and save the shortest path geometry and related attributes into a\n",
    "geopackage file.\n",
    "\n",
    "First we need to get the nodes that belong to the shortest path:"
   ]
  },
  {
   "cell_type": "code",
   "execution_count": null,
   "id": "26b181c0-7c27-4979-ada7-0a3244c98d6b",
   "metadata": {},
   "outputs": [],
   "source": [
    "# Get the nodes along the shortest path\n",
    "nodes_gdf = ox.graph_to_gdfs(G_projected, edges=False)\n",
    "\n",
    "# Locate the route nodes in the nodes GeoDataFrame\n",
    "route_nodes = nodes_gdf.loc[shortest_path]"
   ]
  },
  {
   "cell_type": "code",
   "execution_count": null,
   "id": "3b75bc4c-cd5c-4f46-86a1-dd2ce5c71588",
   "metadata": {},
   "outputs": [],
   "source": [
    "route_nodes"
   ]
  },
  {
   "cell_type": "markdown",
   "id": "646092bb-d9cd-45f6-9ed8-31276f94a12f",
   "metadata": {},
   "source": [
    "As we can see, now we have all the nodes that were part of the shortest path as a GeoDataFrame.\n",
    "\n",
    "Now we can create a LineString out of the Point geometries of the nodes:"
   ]
  },
  {
   "cell_type": "code",
   "execution_count": null,
   "id": "83255bf0-362f-4d62-97b3-6421c6444bb8",
   "metadata": {},
   "outputs": [],
   "source": [
    "import shapely.geometry\n",
    "\n",
    "# Create a geometry for the shortest path\n",
    "route_line = shapely.geometry.LineString(\n",
    "    list(route_nodes.geometry.values)\n",
    ")\n",
    "route_line"
   ]
  },
  {
   "cell_type": "code",
   "execution_count": null,
   "id": "33efec16-f923-4d96-9c0b-661b2eb5812c",
   "metadata": {},
   "outputs": [],
   "source": [
    "import geopandas\n",
    "\n",
    "route_geom = geopandas.GeoDataFrame(\n",
    "    {\n",
    "        \"geometry\": [route_line],\n",
    "        \"osm_nodes\": [shortest_path],\n",
    "    },\n",
    "    crs=edges.crs\n",
    ")\n",
    "\n",
    "# Calculate the route length\n",
    "route_geom[\"length_m\"] = route_geom.length\n",
    "\n",
    "route_geom.head()"
   ]
  },
  {
   "cell_type": "code",
   "execution_count": null,
   "id": "0bf31963-abf6-4340-a6b8-df4da56de407",
   "metadata": {},
   "outputs": [],
   "source": [
    "# Geocode the location to get its latitude and longitude\n",
    "location_point = ox.geocoder.geocode(\"Stora Torget, Karlstad, Sweden\")\n",
    "\n",
    "# Define the distance by which to extend the bounding box (in meters)\n",
    "distance = 1000  # Extend by 1000 meters\n",
    "\n",
    "# Calculate the bounding box around the location, extended by the specified distance\n",
    "north, south, east, west = ox.utils_geo.bbox_from_point(\n",
    "    point=location_point, dist=distance)\n",
    "\n",
    "# You can now use this bounding box to get the graph\n",
    "graph = ox.graph_from_bbox(north, south, east, west, network_type='all')\n",
    "\n",
    "\n",
    "\n",
    "print(f\"Bounding Box: North: {north}, South: {south}, East: {east}, West: {west}\")\n"
   ]
  },
  {
   "cell_type": "code",
   "execution_count": null,
   "id": "7b98cca4-4591-45aa-9989-fd88452648a2",
   "metadata": {},
   "outputs": [],
   "source": [
    "\n",
    "# Download building geometries within the specified bounding box\n",
    "buildings = ox.geometries.geometries_from_bbox(north, south, east, west, tags={\"building\": True})\n",
    "\n"
   ]
  },
  {
   "cell_type": "code",
   "execution_count": null,
   "id": "cd86c7e1-7a94-4ecc-9969-0e7ea69824e5",
   "metadata": {},
   "outputs": [],
   "source": [
    "buildings.plot()"
   ]
  },
  {
   "cell_type": "code",
   "execution_count": null,
   "id": "b92cfef0-57a5-4068-af52-5c42447a028a",
   "metadata": {},
   "outputs": [],
   "source": [
    "import contextily as ctx\n",
    "import matplotlib.pyplot as plt\n",
    "\n",
    "fig, ax = plt.subplots(figsize=(12, 8))\n",
    "\n",
    "# Reproject data to Web Mercator (EPSG:3857) for consistency with contextily basemap\n",
    "edges_3857 = edges.to_crs(epsg=3857)\n",
    "nodes_3857 = nodes_gdf.to_crs(epsg=3857)\n",
    "buildings_3857 = buildings.to_crs(epsg=3857)\n",
    "route_geom_3857 = route_geom.to_crs(epsg=3857)\n",
    "\n",
    "# Plot edges and nodes\n",
    "edges_3857.plot(ax=ax, linewidth=0.75, color='gray')\n",
    "nodes_3857.plot(ax=ax, markersize=2, color='gray')\n",
    "\n",
    "# Add buildings\n",
    "buildings_3857.plot(ax=ax, facecolor='yellow', alpha=0.7)\n",
    "\n",
    "# Add the route\n",
    "route_geom_3857.plot(ax=ax, linewidth=2, linestyle='--', color='red')\n",
    "\n",
    "# Add basemap\n",
    "ctx.add_basemap(ax, source=ctx.providers.CartoDB.Positron)\n",
    "\n",
    "# Adjust the plot limits to the extent of your data\n",
    "ax.set_xlim(edges_3857.total_bounds[[0, 2]].min(), edges_3857.total_bounds[[0, 2]].max())\n",
    "ax.set_ylim(edges_3857.total_bounds[[1, 3]].min(), edges_3857.total_bounds[[1, 3]].max())\n",
    "\n",
    "plt.show()\n"
   ]
  },
  {
   "cell_type": "markdown",
   "id": "9868e46c-6028-474c-89fb-b0263239058f",
   "metadata": {},
   "source": [
    "## Sources\n",
    "\n",
    "This lesson is inspired and has adapted or reused material from University of Helsinki Automating GIS processis course (https://autogis-site.readthedocs.io/en/latest/course-info/license.html) under a Creative Commons Attribution-ShareAlike 4.0 International licence (https://creativecommons.org/licenses/by-sa/4.0/deed.en)."
   ]
  },
  {
   "cell_type": "code",
   "execution_count": null,
   "id": "7905cf56-fc45-4074-b1f5-7ad926573fc1",
   "metadata": {},
   "outputs": [],
   "source": []
  },
  {
   "cell_type": "code",
   "execution_count": null,
   "id": "90f34851-44fb-4bc3-b846-5feeee4c95b9",
   "metadata": {},
   "outputs": [],
   "source": []
  }
 ],
 "metadata": {
  "kernelspec": {
   "display_name": "GeoPython25",
   "language": "python",
   "name": "geopython"
  },
  "language_info": {
   "codemirror_mode": {
    "name": "ipython",
    "version": 3
   },
   "file_extension": ".py",
   "mimetype": "text/x-python",
   "name": "python",
   "nbconvert_exporter": "python",
   "pygments_lexer": "ipython3",
   "version": "3.10.13"
  }
 },
 "nbformat": 4,
 "nbformat_minor": 5
}
